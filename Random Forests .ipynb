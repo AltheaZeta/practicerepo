{
    "cells": [
        {
            "cell_type": "code",
            "execution_count": 1,
            "id": "784a59e4",
            "metadata": {},
            "outputs": [
                {
                    "name": "stdout",
                    "output_type": "stream",
                    "text": "['setosa' 'versicolor' 'virginica']\n['sepal length (cm)', 'sepal width (cm)', 'petal length (cm)', 'petal width (cm)']\n"
                }
            ],
            "source": "# Import scikit-learn dataset library\nfrom sklearn import datasets\n\n# Load dataset\niris = datasets.load_iris()\n\n# print the label species(setosa, versicolor,virginica)\nprint(iris.target_names)\n\n# print the names of the four features\nprint(iris.feature_names)\n"
        },
        {
            "cell_type": "code",
            "execution_count": 2,
            "id": "23a7d593",
            "metadata": {},
            "outputs": [
                {
                    "name": "stdout",
                    "output_type": "stream",
                    "text": "[[5.1 3.5 1.4 0.2]\n [4.9 3.  1.4 0.2]\n [4.7 3.2 1.3 0.2]\n [4.6 3.1 1.5 0.2]\n [5.  3.6 1.4 0.2]]\n[0 0 0 0 0 0 0 0 0 0 0 0 0 0 0 0 0 0 0 0 0 0 0 0 0 0 0 0 0 0 0 0 0 0 0 0 0\n 0 0 0 0 0 0 0 0 0 0 0 0 0 1 1 1 1 1 1 1 1 1 1 1 1 1 1 1 1 1 1 1 1 1 1 1 1\n 1 1 1 1 1 1 1 1 1 1 1 1 1 1 1 1 1 1 1 1 1 1 1 1 1 1 2 2 2 2 2 2 2 2 2 2 2\n 2 2 2 2 2 2 2 2 2 2 2 2 2 2 2 2 2 2 2 2 2 2 2 2 2 2 2 2 2 2 2 2 2 2 2 2 2\n 2 2]\n"
                }
            ],
            "source": "# print the iris data (top 5 records)\nprint(iris.data[0:5])\n\n# print the iris labels (0:setosa, 1:versicolor, 2:virginica)\nprint(iris.target)"
        },
        {
            "cell_type": "code",
            "execution_count": 3,
            "id": "f6797b91",
            "metadata": {},
            "outputs": [
                {
                    "data": {
                        "text/html": "<div>\n<style scoped>\n    .dataframe tbody tr th:only-of-type {\n        vertical-align: middle;\n    }\n\n    .dataframe tbody tr th {\n        vertical-align: top;\n    }\n\n    .dataframe thead th {\n        text-align: right;\n    }\n</style>\n<table border=\"1\" class=\"dataframe\">\n  <thead>\n    <tr style=\"text-align: right;\">\n      <th></th>\n      <th>sepal length</th>\n      <th>sepal width</th>\n      <th>petal length</th>\n      <th>petal width</th>\n      <th>species</th>\n    </tr>\n  </thead>\n  <tbody>\n    <tr>\n      <th>0</th>\n      <td>5.1</td>\n      <td>3.5</td>\n      <td>1.4</td>\n      <td>0.2</td>\n      <td>0</td>\n    </tr>\n    <tr>\n      <th>1</th>\n      <td>4.9</td>\n      <td>3.0</td>\n      <td>1.4</td>\n      <td>0.2</td>\n      <td>0</td>\n    </tr>\n    <tr>\n      <th>2</th>\n      <td>4.7</td>\n      <td>3.2</td>\n      <td>1.3</td>\n      <td>0.2</td>\n      <td>0</td>\n    </tr>\n    <tr>\n      <th>3</th>\n      <td>4.6</td>\n      <td>3.1</td>\n      <td>1.5</td>\n      <td>0.2</td>\n      <td>0</td>\n    </tr>\n    <tr>\n      <th>4</th>\n      <td>5.0</td>\n      <td>3.6</td>\n      <td>1.4</td>\n      <td>0.2</td>\n      <td>0</td>\n    </tr>\n  </tbody>\n</table>\n</div>",
                        "text/plain": "   sepal length  sepal width  petal length  petal width  species\n0           5.1          3.5           1.4          0.2        0\n1           4.9          3.0           1.4          0.2        0\n2           4.7          3.2           1.3          0.2        0\n3           4.6          3.1           1.5          0.2        0\n4           5.0          3.6           1.4          0.2        0"
                    },
                    "execution_count": 3,
                    "metadata": {},
                    "output_type": "execute_result"
                }
            ],
            "source": "# Creating a DataFrame of given iris dataset.\nimport pandas as pd\n\ndata=pd.DataFrame({\n    'sepal length':iris.data[:,0],\n    'sepal width':iris.data[:,1],\n    'petal length':iris.data[:,2],\n    'petal width':iris.data[:,3],\n    'species':iris.target\n})\ndata.head()"
        },
        {
            "cell_type": "code",
            "execution_count": 4,
            "id": "9f3af353",
            "metadata": {},
            "outputs": [],
            "source": "# Import train_test_split function\nfrom sklearn.model_selection import train_test_split\n\nX=data[['sepal length', 'sepal width', 'petal length', 'petal width']]  # Features\ny=data['species']  # Labels\n\n# Split dataset into training set and test set\nX_train, X_test, y_train, y_test = train_test_split(X, y, test_size=0.3) # 70% training and 30% test"
        },
        {
            "cell_type": "code",
            "execution_count": 5,
            "id": "0286d748",
            "metadata": {},
            "outputs": [
                {
                    "data": {
                        "text/plain": "RandomForestClassifier(oob_score=True)"
                    },
                    "execution_count": 5,
                    "metadata": {},
                    "output_type": "execute_result"
                }
            ],
            "source": "# Import Random Forest Model\nfrom sklearn.ensemble import RandomForestClassifier\n\n# Create a Random Forest Classifier\nclf=RandomForestClassifier(oob_score=True)\n\n# Train the model using the training sets y_pred=clf.predict(X_test)\nclf.fit(X_train,y_train)\n\n"
        },
        {
            "cell_type": "code",
            "execution_count": 6,
            "id": "344bfc28",
            "metadata": {},
            "outputs": [
                {
                    "data": {
                        "text/plain": "0.9428571428571428"
                    },
                    "execution_count": 6,
                    "metadata": {},
                    "output_type": "execute_result"
                }
            ],
            "source": "# Check the out of bag sample score\nclf.oob_score_"
        },
        {
            "cell_type": "code",
            "execution_count": 7,
            "id": "79ea9476",
            "metadata": {},
            "outputs": [
                {
                    "data": {
                        "text/plain": "array([0, 0, 2, 2, 1, 0, 1, 1, 1, 1, 1, 2, 0, 2, 0, 0, 0, 1, 0, 0, 2, 1,\n       1, 1, 1, 2, 1, 1, 0, 1, 0, 1, 1, 2, 0, 2, 2, 0, 0, 1, 1, 2, 2, 2,\n       0])"
                    },
                    "execution_count": 7,
                    "metadata": {},
                    "output_type": "execute_result"
                }
            ],
            "source": "y_pred=clf.predict(X_test)\ny_pred"
        },
        {
            "cell_type": "code",
            "execution_count": 8,
            "id": "fafc0c8e",
            "metadata": {},
            "outputs": [
                {
                    "name": "stdout",
                    "output_type": "stream",
                    "text": "Accuracy: 0.9555555555555556\n"
                }
            ],
            "source": "# Import scikit-learn metrics module for accuracy calculation\nfrom sklearn import metrics\n\n# Model Accuracy, how often is the classifier correct?\nprint(\"Accuracy:\", metrics.accuracy_score(y_test, y_pred))"
        },
        {
            "cell_type": "markdown",
            "id": "c39365bd",
            "metadata": {},
            "source": "### Finding important features"
        },
        {
            "cell_type": "code",
            "execution_count": 9,
            "id": "72dd00d6",
            "metadata": {},
            "outputs": [
                {
                    "data": {
                        "text/plain": "RandomForestClassifier()"
                    },
                    "execution_count": 9,
                    "metadata": {},
                    "output_type": "execute_result"
                }
            ],
            "source": "from sklearn.ensemble import RandomForestClassifier\n\n# Create a Random forest Classifier\nclf=RandomForestClassifier(n_estimators=100)\n\n# Train the model using the training sets y_pred=clf.predict(X_test)\nclf.fit(X_train,y_train)"
        },
        {
            "cell_type": "code",
            "execution_count": 10,
            "id": "b1952685",
            "metadata": {},
            "outputs": [
                {
                    "data": {
                        "text/plain": "petal width (cm)     0.517892\npetal length (cm)    0.382235\nsepal length (cm)    0.076842\nsepal width (cm)     0.023031\ndtype: float64"
                    },
                    "execution_count": 10,
                    "metadata": {},
                    "output_type": "execute_result"
                }
            ],
            "source": "feature_imp = pd.Series(clf.feature_importances_,index=iris.feature_names).sort_values(ascending=False)\nfeature_imp"
        },
        {
            "cell_type": "code",
            "execution_count": 11,
            "id": "d49d1636",
            "metadata": {},
            "outputs": [
                {
                    "name": "stderr",
                    "output_type": "stream",
                    "text": "No handles with labels found to put in legend.\n"
                },
                {
                    "data": {
                        "image/png": "[encoded data removed]",
                        "text/plain": "<Figure size 432x288 with 1 Axes>"
                    },
                    "metadata": {
                        "needs_background": "light"
                    },
                    "output_type": "display_data"
                }
            ],
            "source": "import matplotlib.pyplot as plt\nimport seaborn as sns\n%matplotlib inline\n\n# Creating a bar plot\nsns.barplot(x=feature_imp, y=feature_imp.index)\nplt.xlabel('Feature Importance Score')\nplt.ylabel('Features')\nplt.title(\"Visualizing Important Features\")\nplt.legend()\nplt.show()"
        },
        {
            "cell_type": "markdown",
            "id": "239d16b1",
            "metadata": {},
            "source": "### Generating the Model on Selected Features"
        },
        {
            "cell_type": "code",
            "execution_count": 12,
            "id": "35f783ee",
            "metadata": {},
            "outputs": [],
            "source": "# Split dataset into features and labels\nX=data[['petal length', 'petal width','sepal length']]  # Removed feature \"sepal length\"\ny=data['species']\n\n# Split dataset into training set and test set\nX_train, X_test, y_train, y_test = train_test_split(X, y, test_size=0.70, random_state=5) # 70% training and 30% test\n"
        },
        {
            "cell_type": "code",
            "execution_count": 13,
            "id": "2c47ea09",
            "metadata": {},
            "outputs": [
                {
                    "data": {
                        "text/plain": "RandomForestClassifier(oob_score=True)"
                    },
                    "execution_count": 13,
                    "metadata": {},
                    "output_type": "execute_result"
                }
            ],
            "source": "# Create a Random Forest Classifier\nclf=RandomForestClassifier(oob_score=True)\n\n# Train the model using the training sets y_pred=clf.predict(X_test)\nclf.fit(X_train,y_train)"
        },
        {
            "cell_type": "code",
            "execution_count": 14,
            "id": "d98baa38",
            "metadata": {},
            "outputs": [
                {
                    "data": {
                        "text/plain": "0.9555555555555556"
                    },
                    "execution_count": 14,
                    "metadata": {},
                    "output_type": "execute_result"
                }
            ],
            "source": "# Check the out of bag sample score\nclf.oob_score_"
        },
        {
            "cell_type": "code",
            "execution_count": 15,
            "id": "0b0dd0cd",
            "metadata": {},
            "outputs": [
                {
                    "name": "stdout",
                    "output_type": "stream",
                    "text": "Accuracy: 0.9428571428571428\n"
                }
            ],
            "source": "# prediction on test set\ny_pred=clf.predict(X_test)\n\n# Model Accuracy\nprint(\"Accuracy:\", metrics.accuracy_score(y_test, y_pred))"
        }
    ],
    "metadata": {
        "kernelspec": {
            "display_name": "Python 3 (ipykernel)",
            "language": "python",
            "name": "python3"
        },
        "language_info": {
            "codemirror_mode": {
                "name": "ipython",
                "version": 3
            },
            "file_extension": ".py",
            "mimetype": "text/x-python",
            "name": "python",
            "nbconvert_exporter": "python",
            "pygments_lexer": "ipython3",
            "version": "3.8.12"
        }
    },
    "nbformat": 4,
    "nbformat_minor": 5
}